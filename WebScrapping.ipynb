{
 "cells": [
  {
   "cell_type": "code",
   "execution_count": 16,
   "metadata": {},
   "outputs": [
    {
     "name": "stdout",
     "output_type": "stream",
     "text": [
      "Website Title: BBC - Homepage\n",
      "\n",
      "Extracted Paragraphs:\n",
      "Paragraph 1: \n",
      "Paragraph 2: The Hamas-run health ministry and a hospital director say at least 50 people killed - the BBC is working to verify details.\n",
      "Paragraph 3: Hosting a men's World Cup has long been an ambition for Saudi Arabia writes BBC sports editor Dan Roan, but questions and intense scrutiny will remain.\n",
      "Paragraph 4: Hundreds of thousands of Afghans seeking asylum in Pakistan fear their dreams will be crushed.\n",
      "Paragraph 5: Natalie Raanan and her mother Judith were visiting family in Israel when they were taken hostage on 7 October.\n",
      "Paragraph 6: Watch on Match of the Day Wales and listen to BBC Radio Wales and BBC Radio Cymru commentary as Wales take on Denmark in the Women's Nations League at the Energi Viborg Arena.\n",
      "Paragraph 7: Fakhar Zaman scores a rapid 81 as Pakistan race to a seven-wicket win over Bangladesh in Kolkata.\n",
      "Paragraph 8: With the combat sports world at his feet, Francis Ngannou has plenty of options when it comes to his next fight.\n",
      "Paragraph 9: \"We were not able to disprove the existence of a ghost\"\n",
      "Paragraph 10: The artist’s controversial depiction of an imaginary fiend had disappeared under layers of paint\n",
      "Paragraph 11: Why 1970s mystery The Enfield Poltergeist continues to disturb, decades on\n",
      "Paragraph 12: \n",
      "Paragraph 13: 25°C\n",
      "Paragraph 14: 32°C\n",
      "Paragraph 15: 23°C\n",
      "Paragraph 16: 32°C\n",
      "Paragraph 17: 23°C\n",
      "Paragraph 18: 33°C\n",
      "Paragraph 19: 23°C\n",
      "Paragraph 20: The most amazing videos from the BBC\n",
      "Paragraph 21: The opposition is calling on the country's long-serving PM to stand down ahead of polls in January.\n",
      "Paragraph 22: The obsession has sparked rivalries, inspired rituals and made humble chefs local celebrities.\n",
      "Paragraph 23: The man is thought to have also been involved in an earlier shooting at a nearby hospital.\n",
      "Paragraph 24: Its top diplomat has been in Washington for talks but there are limits to what it can achieve.\n",
      "Paragraph 25: For those looking to immerse themselves in local culture, here's where to go\n",
      "Paragraph 26: The words we use when describing others can be important\n",
      "Paragraph 27: The episode where the late actor truly showcased his comic genius\n",
      "Paragraph 28: Why candy canes and marshmallow Santas hit shelves as soon as Halloween is over\n",
      "Paragraph 29: The actor is said to be \"grumpy\" while giving evidence in a civil trial against a former assistant\n",
      "Paragraph 30: The death of Adam Johnson on the ice sheds light on the risks of the fast-paced sport\n",
      "Paragraph 31: Chairs used by VIP guests at the King's Coronation are being auctioned for charity\n",
      "Paragraph 32: Solutions for a sustainable world\n",
      "Paragraph 33: Gaza's health ministry blamed the blast on Israeli air strikes, but Israel's military are yet to comment.\n",
      "Paragraph 34: As inconsistencies were put to him, the former crypto boss often told the court \"I don't recall\" .\n",
      "Paragraph 35: ’جنوری میں عام انتخابات 90 روزہ دستوری مدت سے باہر‘ الیکشن کمیشن کے اعلان پر پی ٹی آئی کا ردعمل\n",
      "Paragraph 36: イスラエル、ガザ市付近まで進軍か　ネタニヤフ首相は停戦を拒否\n"
     ]
    }
   ],
   "source": [
    "import requests\n",
    "from bs4 import BeautifulSoup\n",
    "\n",
    "response = requests.get(\"https://www.bbc.com/\") # It'll fetch and parse the page information\n",
    "soup = BeautifulSoup(response.text, 'html.parser')\n",
    "\n",
    "title = soup.title\n",
    "if title:\n",
    "    print(f\"Website Title: {title.get_text()}\") # Print Title of it\n",
    "\n",
    "paragraphs = soup.find_all('p')\n",
    "print(\"\\nExtracted Paragraphs:\")\n",
    "for i, paragraph in enumerate(paragraphs, start=1):\n",
    "    print(f\"Paragraph {i}: {paragraph.get_text().strip()}\") #Print Paragaraphs\n"
   ]
  }
 ],
 "metadata": {
  "kernelspec": {
   "display_name": "Python 3",
   "language": "python",
   "name": "python3"
  },
  "language_info": {
   "codemirror_mode": {
    "name": "ipython",
    "version": 3
   },
   "file_extension": ".py",
   "mimetype": "text/x-python",
   "name": "python",
   "nbconvert_exporter": "python",
   "pygments_lexer": "ipython3",
   "version": "3.12.0"
  }
 },
 "nbformat": 4,
 "nbformat_minor": 2
}
